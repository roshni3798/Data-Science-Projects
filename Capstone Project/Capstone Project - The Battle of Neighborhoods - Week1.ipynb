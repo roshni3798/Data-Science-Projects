{
 "cells": [
  {
   "cell_type": "markdown",
   "metadata": {},
   "source": [
    "# The Battle of the Neighborhoods"
   ]
  },
  {
   "cell_type": "markdown",
   "metadata": {},
   "source": [
    "<img src=/"Lisbon.jpg/">"
   ]
  },
  {
   "cell_type": "markdown",
   "metadata": {},
   "source": [
    "## Table of contents\n",
    "* [Introduction: Business Problem](#introduction)\n",
    "* [Data](#data)"
   ]
  },
  {
   "cell_type": "markdown",
   "metadata": {},
   "source": [
    "## Introduction: Initial Real Estate Investment Study<a name=\"introduction\"></a>"
   ]
  },
  {
   "cell_type": "markdown",
   "metadata": {},
   "source": [
    "### Background & Problem\n",
    "Portugal's housing prices continue to rise strongly, fuelled by surging demand and improved economic conditions. Based on figures released by Statistics Portugal (INE), in Lisbon metropolitan area, property prices were up by 7.9% (7.2% in real terms) in 2018 from a year earlier, to an average of €1,502 per $m^2$.  \n",
    "With the Portuguese housing market expecting to remain buoyant this year, with Moody's Investors Service predicting house price increases of between 7% and 8% every year until 2020 and given the fact that restrictions on foreign property ownership in Portugal is non-existent, a preliminary study on the real state market is of interest.  \n",
    "In this report aims to present an overview of Lisbon neighbourhoods to aid on the decision of investing in real state in the city. This report aims to provide targeted information near the potential property to be sold through clustering and categorisation of living areas and identification of unique characteristics of that areas.\n"
   ]
  },
  {
   "cell_type": "markdown",
   "metadata": {},
   "source": [
    "### Target Audience\n",
    "The results of this report can be used by anyone looking for a simple first overview of the different neighborhoods in Lisbon. The report aims to be useful for both 'profit' investors and people looking for a house to live, vacations,etc. Both of these groups will be named **investors** in this report."
   ]
  },
  {
   "cell_type": "markdown",
   "metadata": {},
   "source": [
    "## Data<a name=\"data\"></a>"
   ]
  },
  {
   "cell_type": "markdown",
   "metadata": {},
   "source": [
    "Based on the background presented in the [previous chapter](#introduction), multiple factors were identified as relevant information to provide to interested investors, namely:\n",
    "* Number and type of venues in the neighborhood where realty is located.\n",
    "* Top venues categories in the neighborhood\n",
    "* Average price of housing in the neighborhood"
   ]
  },
  {
   "cell_type": "markdown",
   "metadata": {},
   "source": [
    "The procedure for data preparation was divided into four stages:\n",
    "- [**Stage 1**: Scraping information of the different Boroughs in Lisbon from Wikipedia](#part1): Information regarding the neighborhood of Lisbon is scraped using the **Beautifulsoup library**.\n",
    "- [**Stage 2**: Creating a new dataset of the Neighborhoods in Lisbon and generating their co-ordinates](#part2): Co-ordinate of neighborhood will be obtained using **Google Maps API geocoding**.\n",
    "- [**Stage 3**: Preprocessing a data set from Kaggle showing Lisbon's neighborhoods average real estate prices](#part3):  A dataset consisting of the prices statistics of each neighborhood in Lisbon obtained from **Kaggle**.\n",
    "- [**Stage 4**: Venues information per neighborhood of the city of Lisbon](#part4): All venues or neigborhood area through **Foursqueare API**."
   ]
  },
  {
   "cell_type": "code",
   "execution_count": null,
   "metadata": {},
   "outputs": [],
   "source": []
  }
 ],
 "metadata": {
  "kernelspec": {
   "display_name": "Python 3",
   "language": "python",
   "name": "python3"
  },
  "language_info": {
   "codemirror_mode": {
    "name": "ipython",
    "version": 3
   },
   "file_extension": ".py",
   "mimetype": "text/x-python",
   "name": "python",
   "nbconvert_exporter": "python",
   "pygments_lexer": "ipython3",
   "version": "3.7.3"
  }
 },
 "nbformat": 4,
 "nbformat_minor": 4
}
